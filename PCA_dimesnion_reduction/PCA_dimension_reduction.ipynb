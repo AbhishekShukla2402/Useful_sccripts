{
 "cells": [
  {
   "cell_type": "code",
   "execution_count": 1,
   "metadata": {},
   "outputs": [],
   "source": [
    "from sklearn.model_selection import cross_val_score\n",
    "from sklearn.linear_model import LogisticRegression\n",
    "\n",
    "scores=[]\n",
    "attributes=[]\n",
    "def get_scores(df, model):\n",
    "    for i in range(1,df.shape[1]):\n",
    "        pca = PCA(n_components=i)\n",
    "        df_eval = pca.fit_transform(df)\n",
    "        X_train, X_test, y_train, y_test = train_test_split(df_eval, df_y, test_size=0.2, random_state=0)\n",
    "        model.fit(X_train, y_train)\n",
    "        scores.append(cross_val_score(model, X_test, y_test, cv=10).mean())\n",
    "        attributes.append(i)\n",
    "        \n",
    "        \n",
    "    return list(zip(attributes,scores))\n",
    "\n",
    "max1=0\n",
    "max_att=0\n",
    "for i in range(len(scores)):\n",
    "    if scores[i][1]>max1:\n",
    "        max1 = scores[i][1]\n",
    "        max_att = scores[i][0]\n",
    "\n",
    "print(\"Optimal number of attributes is {} with a score of {:.2f}%\".format(max_att, max1*100))"
   ]
  },
  {
   "cell_type": "code",
   "execution_count": 6,
   "metadata": {},
   "outputs": [],
   "source": []
  }
 ],
 "metadata": {
  "kernelspec": {
   "display_name": "Python 3",
   "language": "python",
   "name": "python3"
  },
  "language_info": {
   "codemirror_mode": {
    "name": "ipython",
    "version": 3
   },
   "file_extension": ".py",
   "mimetype": "text/x-python",
   "name": "python",
   "nbconvert_exporter": "python",
   "pygments_lexer": "ipython3",
   "version": "3.7.6"
  }
 },
 "nbformat": 4,
 "nbformat_minor": 4
}
